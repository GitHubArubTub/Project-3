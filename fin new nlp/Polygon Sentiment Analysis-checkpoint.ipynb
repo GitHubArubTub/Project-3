{
 "cells": [
  {
   "cell_type": "code",
   "execution_count": 1,
   "id": "2dab71fe-68c8-4c89-bff1-0c890dc6de0f",
   "metadata": {},
   "outputs": [],
   "source": [
    "import requests\n",
    "import matplotlib.pyplot as plt\n",
    "import datetime\n",
    "import os\n",
    "from dotenv import load_dotenv\n",
    "from simpletransformers.classification import ClassificationModel\n",
    "import torch\n",
    "import pandas as pd\n",
    "from collections import Counter\n",
    "import matplotlib.pyplot as plt"
   ]
  },
  {
   "cell_type": "code",
   "execution_count": 2,
   "id": "ede1c756-5729-4a0c-8351-b2682e1263a1",
   "metadata": {},
   "outputs": [],
   "source": [
    "# Set your Polygon.io API key\n",
    "polygon_api_key = \"ed7eRBk0FDeIor5XgFCSyocd28VQKzPf\"\n",
    "\n",
    "# Set the ticker symbol\n",
    "ticker_symbol = \"PTON\"\n",
    "\n",
    "# Set the number of news articles you want to retrieve\n",
    "limit = 150\n",
    "\n",
    "# Define the API endpoint for Polygon.io\n",
    "polygon_endpoint = f\"https://api.polygon.io/v2/reference/news?ticker={ticker_symbol}&limit={limit}&apiKey={polygon_api_key}\"\n"
   ]
  },
  {
   "cell_type": "code",
   "execution_count": 3,
   "id": "70d588e3-ea8c-4ef7-a7dc-3135a8cac950",
   "metadata": {},
   "outputs": [],
   "source": [
    "# Fetch headlines from Polygon.io\n",
    "response = requests.get(polygon_endpoint)\n",
    "data = response.json()\n",
    "articles = data['results']\n",
    "headlines = [article['title'] for article in articles]"
   ]
  },
  {
   "cell_type": "code",
   "execution_count": 4,
   "id": "e2502ca1-0e99-40f8-b693-7a11d608132e",
   "metadata": {},
   "outputs": [
    {
     "ename": "OSError",
     "evalue": "Error no file named pytorch_model.bin, tf_model.h5, model.ckpt.index or flax_model.msgpack found in directory ../fin new NLP/Resources.",
     "output_type": "error",
     "traceback": [
      "\u001b[1;31m---------------------------------------------------------------------------\u001b[0m",
      "\u001b[1;31mOSError\u001b[0m                                   Traceback (most recent call last)",
      "Cell \u001b[1;32mIn[4], line 6\u001b[0m\n\u001b[0;32m      4\u001b[0m \u001b[38;5;66;03m# Load trained BERT model\u001b[39;00m\n\u001b[0;32m      5\u001b[0m model_path \u001b[38;5;241m=\u001b[39m \u001b[38;5;124m\"\u001b[39m\u001b[38;5;124m../fin new NLP/Resources\u001b[39m\u001b[38;5;124m\"\u001b[39m\n\u001b[1;32m----> 6\u001b[0m model \u001b[38;5;241m=\u001b[39m \u001b[43mClassificationModel\u001b[49m\u001b[43m(\u001b[49m\u001b[38;5;124;43m'\u001b[39;49m\u001b[38;5;124;43mbert\u001b[39;49m\u001b[38;5;124;43m'\u001b[39;49m\u001b[43m,\u001b[49m\u001b[43m \u001b[49m\u001b[43mmodel_path\u001b[49m\u001b[43m,\u001b[49m\u001b[43m \u001b[49m\u001b[43margs\u001b[49m\u001b[38;5;241;43m=\u001b[39;49m\u001b[43m{\u001b[49m\u001b[43m}\u001b[49m\u001b[43m,\u001b[49m\u001b[43m \u001b[49m\u001b[43muse_cuda\u001b[49m\u001b[38;5;241;43m=\u001b[39;49m\u001b[43mtorch\u001b[49m\u001b[38;5;241;43m.\u001b[39;49m\u001b[43mcuda\u001b[49m\u001b[38;5;241;43m.\u001b[39;49m\u001b[43mis_available\u001b[49m\u001b[43m(\u001b[49m\u001b[43m)\u001b[49m\u001b[43m)\u001b[49m\n\u001b[0;32m      8\u001b[0m \u001b[38;5;66;03m# Predict sentiments of headlines\u001b[39;00m\n\u001b[0;32m      9\u001b[0m predictions, _ \u001b[38;5;241m=\u001b[39m model\u001b[38;5;241m.\u001b[39mpredict(headlines)\n",
      "File \u001b[1;32m~\\anaconda3\\envs\\dev\\lib\\site-packages\\simpletransformers\\classification\\classification_model.py:421\u001b[0m, in \u001b[0;36mClassificationModel.__init__\u001b[1;34m(self, model_type, model_name, tokenizer_type, tokenizer_name, num_labels, weight, args, use_cuda, cuda_device, onnx_execution_provider, **kwargs)\u001b[0m\n\u001b[0;32m    419\u001b[0m \u001b[38;5;28;01melse\u001b[39;00m:\n\u001b[0;32m    420\u001b[0m     \u001b[38;5;28;01mif\u001b[39;00m \u001b[38;5;129;01mnot\u001b[39;00m \u001b[38;5;28mself\u001b[39m\u001b[38;5;241m.\u001b[39margs\u001b[38;5;241m.\u001b[39mquantized_model:\n\u001b[1;32m--> 421\u001b[0m         \u001b[38;5;28mself\u001b[39m\u001b[38;5;241m.\u001b[39mmodel \u001b[38;5;241m=\u001b[39m model_class\u001b[38;5;241m.\u001b[39mfrom_pretrained(\n\u001b[0;32m    422\u001b[0m             model_name, config\u001b[38;5;241m=\u001b[39m\u001b[38;5;28mself\u001b[39m\u001b[38;5;241m.\u001b[39mconfig, \u001b[38;5;241m*\u001b[39m\u001b[38;5;241m*\u001b[39mkwargs\n\u001b[0;32m    423\u001b[0m         )\n\u001b[0;32m    424\u001b[0m     \u001b[38;5;28;01melse\u001b[39;00m:\n\u001b[0;32m    425\u001b[0m         quantized_weights \u001b[38;5;241m=\u001b[39m torch\u001b[38;5;241m.\u001b[39mload(\n\u001b[0;32m    426\u001b[0m             os\u001b[38;5;241m.\u001b[39mpath\u001b[38;5;241m.\u001b[39mjoin(model_name, \u001b[38;5;124m\"\u001b[39m\u001b[38;5;124mpytorch_model.bin\u001b[39m\u001b[38;5;124m\"\u001b[39m)\n\u001b[0;32m    427\u001b[0m         )\n",
      "File \u001b[1;32m~\\anaconda3\\envs\\dev\\lib\\site-packages\\transformers\\modeling_utils.py:2864\u001b[0m, in \u001b[0;36mPreTrainedModel.from_pretrained\u001b[1;34m(cls, pretrained_model_name_or_path, config, cache_dir, ignore_mismatched_sizes, force_download, local_files_only, token, revision, use_safetensors, *model_args, **kwargs)\u001b[0m\n\u001b[0;32m   2859\u001b[0m         \u001b[38;5;28;01mraise\u001b[39;00m \u001b[38;5;167;01mEnvironmentError\u001b[39;00m(\n\u001b[0;32m   2860\u001b[0m             \u001b[38;5;124mf\u001b[39m\u001b[38;5;124m\"\u001b[39m\u001b[38;5;124mError no file named \u001b[39m\u001b[38;5;132;01m{\u001b[39;00m_add_variant(SAFE_WEIGHTS_NAME,\u001b[38;5;250m \u001b[39mvariant)\u001b[38;5;132;01m}\u001b[39;00m\u001b[38;5;124m found in directory\u001b[39m\u001b[38;5;124m\"\u001b[39m\n\u001b[0;32m   2861\u001b[0m             \u001b[38;5;124mf\u001b[39m\u001b[38;5;124m\"\u001b[39m\u001b[38;5;124m \u001b[39m\u001b[38;5;132;01m{\u001b[39;00mpretrained_model_name_or_path\u001b[38;5;132;01m}\u001b[39;00m\u001b[38;5;124m.\u001b[39m\u001b[38;5;124m\"\u001b[39m\n\u001b[0;32m   2862\u001b[0m         )\n\u001b[0;32m   2863\u001b[0m     \u001b[38;5;28;01melse\u001b[39;00m:\n\u001b[1;32m-> 2864\u001b[0m         \u001b[38;5;28;01mraise\u001b[39;00m \u001b[38;5;167;01mEnvironmentError\u001b[39;00m(\n\u001b[0;32m   2865\u001b[0m             \u001b[38;5;124mf\u001b[39m\u001b[38;5;124m\"\u001b[39m\u001b[38;5;124mError no file named \u001b[39m\u001b[38;5;132;01m{\u001b[39;00m_add_variant(WEIGHTS_NAME,\u001b[38;5;250m \u001b[39mvariant)\u001b[38;5;132;01m}\u001b[39;00m\u001b[38;5;124m, \u001b[39m\u001b[38;5;132;01m{\u001b[39;00mTF2_WEIGHTS_NAME\u001b[38;5;132;01m}\u001b[39;00m\u001b[38;5;124m,\u001b[39m\u001b[38;5;124m\"\u001b[39m\n\u001b[0;32m   2866\u001b[0m             \u001b[38;5;124mf\u001b[39m\u001b[38;5;124m\"\u001b[39m\u001b[38;5;124m \u001b[39m\u001b[38;5;132;01m{\u001b[39;00mTF_WEIGHTS_NAME\u001b[38;5;250m \u001b[39m\u001b[38;5;241m+\u001b[39m\u001b[38;5;250m \u001b[39m\u001b[38;5;124m'\u001b[39m\u001b[38;5;124m.index\u001b[39m\u001b[38;5;124m'\u001b[39m\u001b[38;5;132;01m}\u001b[39;00m\u001b[38;5;124m or \u001b[39m\u001b[38;5;132;01m{\u001b[39;00mFLAX_WEIGHTS_NAME\u001b[38;5;132;01m}\u001b[39;00m\u001b[38;5;124m found in directory\u001b[39m\u001b[38;5;124m\"\u001b[39m\n\u001b[0;32m   2867\u001b[0m             \u001b[38;5;124mf\u001b[39m\u001b[38;5;124m\"\u001b[39m\u001b[38;5;124m \u001b[39m\u001b[38;5;132;01m{\u001b[39;00mpretrained_model_name_or_path\u001b[38;5;132;01m}\u001b[39;00m\u001b[38;5;124m.\u001b[39m\u001b[38;5;124m\"\u001b[39m\n\u001b[0;32m   2868\u001b[0m         )\n\u001b[0;32m   2869\u001b[0m \u001b[38;5;28;01melif\u001b[39;00m os\u001b[38;5;241m.\u001b[39mpath\u001b[38;5;241m.\u001b[39misfile(os\u001b[38;5;241m.\u001b[39mpath\u001b[38;5;241m.\u001b[39mjoin(subfolder, pretrained_model_name_or_path)):\n\u001b[0;32m   2870\u001b[0m     archive_file \u001b[38;5;241m=\u001b[39m pretrained_model_name_or_path\n",
      "\u001b[1;31mOSError\u001b[0m: Error no file named pytorch_model.bin, tf_model.h5, model.ckpt.index or flax_model.msgpack found in directory ../fin new NLP/Resources."
     ]
    }
   ],
   "source": [
    "# Preprocess headlines\n",
    "headlines = [headline.replace(r'\\n', ' ') for headline in headlines]\n",
    "\n",
    "# Load trained BERT model\n",
    "model_path = \"../fin new NLP/Resources\"\n",
    "model = ClassificationModel('bert', model_path, args={}, use_cuda=torch.cuda.is_available())\n",
    "\n",
    "# Predict sentiments of headlines\n",
    "predictions, _ = model.predict(headlines)\n"
   ]
  },
  {
   "cell_type": "code",
   "execution_count": 10,
   "id": "6cc55f7b-9409-43b9-ac89-b7ebf0f0c072",
   "metadata": {},
   "outputs": [
    {
     "name": "stdout",
     "output_type": "stream",
     "text": [
      "                                              Headline Predicted Sentiment\n",
      "0    General Electric, Verizon, Cleveland-Cliffs An...             neutral\n",
      "1       Peloton's NBA Deal Is Another Big Step Forward             neutral\n",
      "2    Peloton Interactive, Inc. Announces First Quar...             neutral\n",
      "3    Peloton In For A Rough Ride With Increased Chu...            positive\n",
      "4    Benzinga's Top Ratings Upgrades, Downgrades Fo...            positive\n",
      "..                                                 ...                 ...\n",
      "145  Why Investors Are Hating These 2 Nasdaq Stocks...             neutral\n",
      "146            Why Shares of Peloton Are Falling Today            negative\n",
      "147  American Airlines, Cutera, Mirum Pharmaceutica...             neutral\n",
      "148    Peloton Is Down 93% From Its High. Time to Buy?            negative\n",
      "149            Where Will Peloton Stock Be in 5 Years?             neutral\n",
      "\n",
      "[150 rows x 2 columns]\n"
     ]
    }
   ],
   "source": [
    "# Convert numeric predictions to string labels\n",
    "label_map = {0: 'positive', 1: 'negative', 2: 'neutral'}\n",
    "predicted_labels = [label_map[pred] for pred in predictions]\n",
    "\n",
    "# Create a DataFrame to display headlines and their predicted sentiments\n",
    "df_results = pd.DataFrame({\n",
    "    'Headline': headlines,\n",
    "    'Predicted Sentiment': predicted_labels\n",
    "})\n",
    "\n",
    "# Print the results\n",
    "print(df_results)"
   ]
  },
  {
   "cell_type": "code",
   "execution_count": 11,
   "id": "1b346ed4-9df4-480c-9e6e-52bc69c92aa7",
   "metadata": {},
   "outputs": [
    {
     "data": {
      "image/png": "[encoded data removed]",
      "text/plain": [
       "<Figure size 640x480 with 1 Axes>"
      ]
     },
     "metadata": {},
     "output_type": "display_data"
    }
   ],
   "source": [
    "\n",
    "# Count occurrences of each sentiment\n",
    "sentiment_counts = Counter(predicted_labels)\n",
    "\n",
    "# Plotting\n",
    "labels, values = zip(*sentiment_counts.items())\n",
    "fig, ax = plt.subplots()\n",
    "ax.bar(labels, values, color=['green', 'red', 'blue'])\n",
    "ax.set_xlabel('Sentiment')\n",
    "ax.set_ylabel('Number of Headlines')\n",
    "ax.set_title('Sentiment Analysis of Headlines')\n",
    "plt.show()"
   ]
  },
  {
   "cell_type": "code",
   "execution_count": null,
   "id": "27a43161-ba41-4cf9-bc8e-7d7945d0f727",
   "metadata": {},
   "outputs": [],
   "source": []
  }
 ],
 "metadata": {
  "kernelspec": {
   "display_name": "Python 3 (ipykernel)",
   "language": "python",
   "name": "python3"
  },
  "language_info": {
   "codemirror_mode": {
    "name": "ipython",
    "version": 3
   },
   "file_extension": ".py",
   "mimetype": "text/x-python",
   "name": "python",
   "nbconvert_exporter": "python",
   "pygments_lexer": "ipython3",
   "version": "3.10.11"
  }
 },
 "nbformat": 4,
 "nbformat_minor": 5
}
