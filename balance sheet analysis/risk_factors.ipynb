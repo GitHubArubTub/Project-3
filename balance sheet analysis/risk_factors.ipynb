{
 "cells": [
  {
   "cell_type": "code",
   "execution_count": 1,
   "id": "88ecf662-7ce8-4ea9-9a60-801dee0e9dac",
   "metadata": {},
   "outputs": [],
   "source": [
    "import pandas as pd\n",
    "import openai\n",
    "import os\n",
    "from dotenv import load_dotenv\n",
    "import requests\n",
    "from sec_api import ExtractorApi \n",
    "from sec_api import XbrlApi"
   ]
  },
  {
   "cell_type": "code",
   "execution_count": 2,
   "id": "95d8001f-abec-4504-bbb1-064fa3f73fa6",
   "metadata": {},
   "outputs": [
    {
     "name": "stdout",
     "output_type": "stream",
     "text": [
      "API loaded\n"
     ]
    }
   ],
   "source": [
    "\n",
    "# Load environment variables from .env file\n",
    "load_dotenv()\n",
    "\n",
    "# Retrieve the API key from environment variables\n",
    "api_key = os.environ.get(\"GPT\")\n",
    "\n",
    "# Check if the API key is retrieved successfully\n",
    "if api_key:\n",
    "    print(\"API loaded\")\n",
    "else:\n",
    "    print(\"API key not loaded\")\n",
    "    exit()  # Stop further execution\n",
    "\n",
    "# Configure OpenAI library to use your API key\n",
    "openai.api_key = api_key\n"
   ]
  },
  {
   "cell_type": "code",
   "execution_count": 8,
   "id": "bf90d10c-8464-4346-8264-552db79ff6d4",
   "metadata": {},
   "outputs": [
    {
     "name": "stdout",
     "output_type": "stream",
     "text": [
      "ea8d053165e7f360b1be3701552eca23e2091cdb8d69e4d503a8cc8eff8dc18c\n"
     ]
    }
   ],
   "source": [
    "sec_api_key = os.getenv('SEC_API')\n",
    "                        \n",
    "\n",
    "print(sec_api_key)              "
   ]
  },
  {
   "cell_type": "code",
   "execution_count": 9,
   "id": "ee6ed58e-2cb9-4977-a2cc-e2a3f1da40a8",
   "metadata": {},
   "outputs": [],
   "source": [
    "import pandas as pd\n",
    "from sec_api import XbrlApi\n",
    "\n",
    "# Your API key for the sec-api\n",
    "API_KEY = sec_api_key\n",
    "xbrlApi = XbrlApi(API_KEY)\n"
   ]
  },
  {
   "cell_type": "code",
   "execution_count": 10,
   "id": "d92399c3-9a25-4903-ab03-5957d7934f11",
   "metadata": {},
   "outputs": [],
   "source": [
    "import pandas as pd\n",
    "\n",
    "def get_balance_sheet(xbrl_json):\n",
    "    balance_sheet_store = {}\n",
    "\n",
    "    # Iterate over each US GAAP item in the balance sheet\n",
    "    for usGaapItem, facts in xbrl_json['BalanceSheets'].items():\n",
    "        values = []\n",
    "        indices = []\n",
    "\n",
    "        # Ensure facts is a list before iterating\n",
    "        if not isinstance(facts, list):\n",
    "            print(f\"Skipping {usGaapItem} as it's not a list.\")\n",
    "            continue\n",
    "\n",
    "        for fact in facts:\n",
    "            # Check if fact is a dictionary\n",
    "            if not isinstance(fact, dict):\n",
    "                print(f\"Skipping a fact in {usGaapItem} as it's not a dictionary.\")\n",
    "                continue\n",
    "\n",
    "            # Only consider items without segment. Not required for our analysis.\n",
    "            if 'segment' not in fact and 'period' in fact and 'instant' in fact['period']:\n",
    "                # Use 'instant' for index\n",
    "                index = fact['period']['instant']\n",
    "                \n",
    "                # Ensure the 'value' key exists and no index duplicates are created\n",
    "                if 'value' in fact and index not in indices:\n",
    "                    values.append(fact['value'])\n",
    "                    indices.append(index)\n",
    "                else:\n",
    "                    print(f\"No 'value' key for {usGaapItem} on {index}\")\n",
    "\n",
    "        balance_sheet_store[usGaapItem] = pd.Series(values, index=indices, dtype='float64') \n",
    "\n",
    "    balance_sheet = pd.DataFrame(balance_sheet_store)\n",
    "    # Switch columns and rows so that US GAAP items are rows and each column header represents a date\n",
    "    return balance_sheet.T \n"
   ]
  },
  {
   "cell_type": "code",
   "execution_count": 11,
   "id": "fb944ed6-21e1-4b4e-af1b-f8d394ad0b97",
   "metadata": {},
   "outputs": [
    {
     "ename": "Exception",
     "evalue": "API error: 429 - {\"status\":429,\"error\":\"You send a lot of requests. We like that. But you exceeded the free query limit of 100 requests. Upgrade your account to get unlimited access. Visit sec-api.io for more.\"}",
     "output_type": "error",
     "traceback": [
      "\u001b[1;31m---------------------------------------------------------------------------\u001b[0m",
      "\u001b[1;31mException\u001b[0m                                 Traceback (most recent call last)",
      "Cell \u001b[1;32mIn[11], line 9\u001b[0m\n\u001b[0;32m      6\u001b[0m url_10k_22 \u001b[38;5;241m=\u001b[39m \u001b[38;5;124m\"\u001b[39m\u001b[38;5;124mhttps://www.sec.gov/ix?doc=/Archives/edgar/data/1639825/000163982522000117/pton-20220630.htm\u001b[39m\u001b[38;5;124m\"\u001b[39m\n\u001b[0;32m      7\u001b[0m url_10k_23 \u001b[38;5;241m=\u001b[39m \u001b[38;5;124m\"\u001b[39m\u001b[38;5;124mhttps://www.sec.gov/ix?doc=/Archives/edgar/data/1639825/000163982523000132/pton-20230630.htm\u001b[39m\u001b[38;5;124m\"\u001b[39m\n\u001b[1;32m----> 9\u001b[0m xbrl_json_2020 \u001b[38;5;241m=\u001b[39m \u001b[43mxbrlApi\u001b[49m\u001b[38;5;241;43m.\u001b[39;49m\u001b[43mxbrl_to_json\u001b[49m\u001b[43m(\u001b[49m\u001b[43mhtm_url\u001b[49m\u001b[38;5;241;43m=\u001b[39;49m\u001b[43murl_10k_20\u001b[49m\u001b[43m)\u001b[49m\n\u001b[0;32m     10\u001b[0m xbrl_json_2021 \u001b[38;5;241m=\u001b[39m xbrlApi\u001b[38;5;241m.\u001b[39mxbrl_to_json(htm_url\u001b[38;5;241m=\u001b[39murl_10k_21)\n\u001b[0;32m     11\u001b[0m xbrl_json_2022 \u001b[38;5;241m=\u001b[39m xbrlApi\u001b[38;5;241m.\u001b[39mxbrl_to_json(htm_url\u001b[38;5;241m=\u001b[39murl_10k_22)\n",
      "File \u001b[1;32m~\\anaconda3\\envs\\dev\\lib\\site-packages\\sec_api\\index.py:152\u001b[0m, in \u001b[0;36mXbrlApi.xbrl_to_json\u001b[1;34m(self, htm_url, xbrl_url, accession_no)\u001b[0m\n\u001b[0;32m    150\u001b[0m         handle_api_error(response)\n\u001b[0;32m    151\u001b[0m \u001b[38;5;28;01melse\u001b[39;00m:\n\u001b[1;32m--> 152\u001b[0m     \u001b[43mhandle_api_error\u001b[49m\u001b[43m(\u001b[49m\u001b[43mresponse\u001b[49m\u001b[43m)\u001b[49m\n",
      "File \u001b[1;32m~\\anaconda3\\envs\\dev\\lib\\site-packages\\sec_api\\index.py:23\u001b[0m, in \u001b[0;36mhandle_api_error\u001b[1;34m(response)\u001b[0m\n\u001b[0;32m     22\u001b[0m \u001b[38;5;28;01mdef\u001b[39;00m \u001b[38;5;21mhandle_api_error\u001b[39m(response):\n\u001b[1;32m---> 23\u001b[0m     \u001b[38;5;28;01mraise\u001b[39;00m \u001b[38;5;167;01mException\u001b[39;00m(\u001b[38;5;124m\"\u001b[39m\u001b[38;5;124mAPI error: \u001b[39m\u001b[38;5;132;01m{}\u001b[39;00m\u001b[38;5;124m - \u001b[39m\u001b[38;5;132;01m{}\u001b[39;00m\u001b[38;5;124m\"\u001b[39m\u001b[38;5;241m.\u001b[39mformat(response\u001b[38;5;241m.\u001b[39mstatus_code, response\u001b[38;5;241m.\u001b[39mtext))\n",
      "\u001b[1;31mException\u001b[0m: API error: 429 - {\"status\":429,\"error\":\"You send a lot of requests. We like that. But you exceeded the free query limit of 100 requests. Upgrade your account to get unlimited access. Visit sec-api.io for more.\"}"
     ]
    }
   ],
   "source": [
    "import pandas as pd\n",
    "\n",
    "# URLs for Peloton's 10-K filings from 2019 to 2022\n",
    "url_10k_20 = \"https://www.sec.gov/ix?doc=/Archives/edgar/data/1639825/000163982520000122/pton-20200630.htm\"\n",
    "url_10k_21 = \"https://www.sec.gov/ix?doc=/Archives/edgar/data/1639825/000163982521000256/pton-20210630.htm\"\n",
    "url_10k_22 = \"https://www.sec.gov/ix?doc=/Archives/edgar/data/1639825/000163982522000117/pton-20220630.htm\"\n",
    "url_10k_23 = \"https://www.sec.gov/ix?doc=/Archives/edgar/data/1639825/000163982523000132/pton-20230630.htm\"\n",
    "\n",
    "xbrl_json_2020 = xbrlApi.xbrl_to_json(htm_url=url_10k_20)\n",
    "xbrl_json_2021 = xbrlApi.xbrl_to_json(htm_url=url_10k_21)\n",
    "xbrl_json_2022 = xbrlApi.xbrl_to_json(htm_url=url_10k_22)\n",
    "xbrl_json_2023 = xbrlApi.xbrl_to_json(htm_url=url_10k_23)\n",
    "\n"
   ]
  },
  {
   "cell_type": "code",
   "execution_count": null,
   "id": "f93502ce-f023-4cb9-bd79-52f43d86549c",
   "metadata": {},
   "outputs": [],
   "source": [
    "balance_sheet_2020 = get_balance_sheet(xbrl_json_2020)\n",
    "balance_sheet_2021 = get_balance_sheet(xbrl_json_2021)\n",
    "balance_sheet_2022 = get_balance_sheet(xbrl_json_2022)\n",
    "balance_sheet_2023 = get_balance_sheet(xbrl_json_2023)"
   ]
  },
  {
   "cell_type": "code",
   "execution_count": null,
   "id": "b8966ee8-c830-4ead-ba6c-7f398331e86f",
   "metadata": {},
   "outputs": [],
   "source": [
    "print(balance_sheet_2020)"
   ]
  },
  {
   "cell_type": "code",
   "execution_count": null,
   "id": "3f679555-71d8-46a4-9af5-5c06fe2db891",
   "metadata": {},
   "outputs": [],
   "source": [
    "balance_sheets_merged = pd.concat([balance_sheet_2020, balance_sheet_2021, balance_sheet_2022, balance_sheet_2023], axis=0, sort=False)\n",
    "\n",
    "balance_sheets_merged = balance_sheets_merged.sort_index().reset_index()\n",
    "\n",
    "balance_sheets_merged = balance_sheets_merged.applymap(lambda x: pd.to_numeric(x, errors= 'ignore'))\n",
    "\n",
    "balance_sheets_merged.head(10)"
   ]
  },
  {
   "cell_type": "code",
   "execution_count": null,
   "id": "5b7099e9-45b4-4e35-b4c5-3d4c2bcb7dad",
   "metadata": {},
   "outputs": [],
   "source": [
    "\n",
    "\n",
    "# Aggregate by index and take max\n",
    "balance_sheets = balance_sheets_merged.groupby('index').max()\n",
    "\n",
    "# Reindex\n",
    "balance_sheets = balance_sheets.reindex(balance_sheet_2020.index)\n",
    "\n",
    "# Drop columns before 2019 and filter out non-annual data\n",
    "cols_to_drop = []\n",
    "for col in balance_sheets.columns:\n",
    "    splitted = col.split('-')\n",
    "    start = '-'.join(splitted[:3])\n",
    "    end = '-'.join(splitted[3:])\n",
    "    start_date = pd.to_datetime(start)\n",
    "    end_date = pd.to_datetime(end)\n",
    "    duration = (end_date - start_date).days / 360\n",
    "\n",
    "    #\n",
    "\n",
    "balance_sheets.drop(columns=cols_to_drop, inplace=True)\n",
    "\n",
    "# Convert to readable format\n",
    "balance_sheets = balance_sheets.apply(lambda row: pd.to_numeric(row, errors='coerce', downcast='integer').astype(str), axis=1)\n",
    "\n",
    "# Sort columns\n",
    "balance_sheets = balance_sheets[sorted(balance_sheets.columns)]\n",
    "\n",
    "print(\"Cleaned Balance sheets from 10-K filings (2019 onwards) as dataframe:\")\n",
    "print('----------------------------------------------------------------------')\n",
    "balance_sheets\n"
   ]
  },
  {
   "cell_type": "code",
   "execution_count": null,
   "id": "651edffa-7b1d-487a-87cd-21625a0b144e",
   "metadata": {},
   "outputs": [],
   "source": [
    "def analyze_balance_sheet_with_gpt(df):\n",
    "    # Convert DataFrame to a string representation for sending to GPT\n",
    "    balance_sheet_str = df.to_string()\n",
    "\n",
    "    prompt_text = f\"Please analyze the following balance sheet data for the last few years:\\n\\n{balance_sheet_str}\\n\\nProvide insights on the assets, liabilities, and equity trends, and evaluate if the investing risk has increased in 750 words or less.\"\n",
    "\n",
    "    # Make API call to OpenAI\n",
    "    response = openai.Completion.create(\n",
    "        engine=\"text-davinci-003\",\n",
    "        prompt=prompt_text,\n",
    "        max_tokens=1000\n",
    "    )\n",
    "\n",
    "    # Print GPT's analysis\n",
    "    print(response.choices[0].text.strip())"
   ]
  },
  {
   "cell_type": "code",
   "execution_count": null,
   "id": "60f0076b-a9dc-45c7-86ab-ffd5e920fc51",
   "metadata": {},
   "outputs": [],
   "source": [
    "analyze_balance_sheet_with_gpt(balance_sheets)"
   ]
  },
  {
   "cell_type": "code",
   "execution_count": null,
   "id": "21baaab9-dfe4-44ab-9c32-a5f9b22dab50",
   "metadata": {},
   "outputs": [],
   "source": []
  }
 ],
 "metadata": {
  "kernelspec": {
   "display_name": "Python 3 (ipykernel)",
   "language": "python",
   "name": "python3"
  },
  "language_info": {
   "codemirror_mode": {
    "name": "ipython",
    "version": 3
   },
   "file_extension": ".py",
   "mimetype": "text/x-python",
   "name": "python",
   "nbconvert_exporter": "python",
   "pygments_lexer": "ipython3",
   "version": "3.10.11"
  }
 },
 "nbformat": 4,
 "nbformat_minor": 5
}
