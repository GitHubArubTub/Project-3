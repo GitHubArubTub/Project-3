{
 "cells": [
  {
   "cell_type": "code",
   "execution_count": 7,
   "id": "6708c7dd-2380-497b-a01d-b5ad0e2b0dc4",
   "metadata": {},
   "outputs": [],
   "source": [
    "import os\n",
    "from dotenv import load_dotenv\n",
    "import requests\n",
    "import openai"
   ]
  },
  {
   "cell_type": "code",
   "execution_count": 8,
   "id": "9d81434d-45b5-45e5-82cd-7b2b0b96670d",
   "metadata": {},
   "outputs": [
    {
     "data": {
      "text/plain": [
       "True"
      ]
     },
     "execution_count": 8,
     "metadata": {},
     "output_type": "execute_result"
    }
   ],
   "source": [
    "load_dotenv()"
   ]
  },
  {
   "cell_type": "code",
   "execution_count": 9,
   "id": "022f6dfc-2707-4019-ba5a-76915e572954",
   "metadata": {},
   "outputs": [
    {
     "name": "stdin",
     "output_type": "stream",
     "text": [
      "Enter the ticker symbol:  JPM\n"
     ]
    },
    {
     "name": "stdout",
     "output_type": "stream",
     "text": [
      "\n",
      "JPM Ratios:\n",
      "P/E Ratio: 10.8581\n",
      "P/B Ratio: 1.3455\n",
      "P/S Ratio: 3.22798\n",
      "\n",
      "Average Ratios Among Peers:\n",
      "P/E Ratio: 7.6446125\n",
      "P/B Ratio: 1.100275\n",
      "P/S Ratio: 1.961105\n"
     ]
    }
   ],
   "source": [
    "\n",
    "\n",
    "FINNHUB_API_KEY = os.getenv(\"FINNHUB\")\n",
    "BASE_URL = \"https://finnhub.io/api/v1/\"\n",
    "\n",
    "headers = {\n",
    "    \"X-Finnhub-Token\": FINNHUB_API_KEY\n",
    "}\n",
    "\n",
    "def get_ratios_for_ticker(ticker):\n",
    "    \"\"\"Fetch P/E, P/B, and P/S ratios for the given ticker.\"\"\"\n",
    "    response = requests.get(f\"{BASE_URL}stock/metric?symbol={ticker}&metric=all\", headers=headers)\n",
    "    data = response.json()\n",
    "    \n",
    "    pe_ratio = data['metric']['peNormalizedAnnual']\n",
    "    pb_ratio = data['metric']['pbAnnual']\n",
    "    ps_ratio = data['metric']['psAnnual']\n",
    "    \n",
    "    return pe_ratio, pb_ratio, ps_ratio\n",
    "\n",
    "def get_peers_of_ticker(ticker):\n",
    "    \"\"\"Fetch the list of peers for the given ticker.\"\"\"\n",
    "    response = requests.get(f\"{BASE_URL}stock/peers?symbol={ticker}\", headers=headers)\n",
    "    peers = response.json()\n",
    "    return peers\n",
    "\n",
    "def get_peer_ratios(ticker):\n",
    "    \"\"\"Fetch average P/E, P/B, and P/S ratios for the peers of the given ticker.\"\"\"\n",
    "    peers = get_peers_of_ticker(ticker)\n",
    "    pe_ratios, pb_ratios, ps_ratios = [], [], []\n",
    "\n",
    "    for peer in peers:\n",
    "        try:\n",
    "            pe, pb, ps = get_ratios_for_ticker(peer)\n",
    "            if pe is not None:\n",
    "                pe_ratios.append(pe)\n",
    "            if pb is not None:\n",
    "                pb_ratios.append(pb)\n",
    "            if ps is not None:\n",
    "                ps_ratios.append(ps)\n",
    "        except:\n",
    "            pass\n",
    "\n",
    "    avg_pe = sum(pe_ratios) / len(pe_ratios) if pe_ratios else None\n",
    "    avg_pb = sum(pb_ratios) / len(pb_ratios) if pb_ratios else None\n",
    "    avg_ps = sum(ps_ratios) / len(ps_ratios) if ps_ratios else None\n",
    "\n",
    "    return avg_pe, avg_pb, avg_ps\n",
    "\n",
    "def main():\n",
    "    ticker = input(\"Enter the ticker symbol: \").upper()\n",
    "    \n",
    "    # Fetch ratios for the given ticker\n",
    "    pe, pb, ps = get_ratios_for_ticker(ticker)\n",
    "    print(f\"\\n{ticker} Ratios:\")\n",
    "    print(f\"P/E Ratio: {pe}\")\n",
    "    print(f\"P/B Ratio: {pb}\")\n",
    "    print(f\"P/S Ratio: {ps}\")\n",
    "\n",
    "    # Fetch average ratios for the peers of the given ticker\n",
    "    avg_pe, avg_pb, avg_ps = get_peer_ratios(ticker)\n",
    "    print(\"\\nAverage Ratios Among Peers:\")\n",
    "    print(f\"P/E Ratio: {avg_pe}\")\n",
    "    print(f\"P/B Ratio: {avg_pb}\")\n",
    "    print(f\"P/S Ratio: {avg_ps}\")\n",
    "\n",
    "if __name__ == \"__main__\":\n",
    "    main()\n"
   ]
  },
  {
   "cell_type": "code",
   "execution_count": 10,
   "id": "886b2a4d-bca5-444c-908c-c0f37dd2a4e0",
   "metadata": {},
   "outputs": [
    {
     "name": "stdout",
     "output_type": "stream",
     "text": [
      "Market Valuation Ratios\n",
      "1. Price / Earnings or P/E Ratio (10.8581)\n",
      "2. Price / Earnings Growth or PEG Ratio\n",
      "3. Price / Book Ratio or P/B Ratio (1.3455)\n",
      "4. Price / Sales Ratio or P/S Ratio (3.22798)\n",
      "5. Dividend Yield\n",
      " \n",
      " \n",
      "Based on the analysis, JPMorgan's P/E, P/B and P/S ratios are all significantly higher than their peers. This indicates that the market is valuing the company at a higher price in comparison to its earnings, book value and sales. In general, a higher P/E ratio means that investors are willing to pay a higher price for a stock because they believe that the company will be more profitable in the future. The higher ratios could also indicate that the market is expecting the company's earnings to grow at a faster rate than its peers in the future\n"
     ]
    }
   ],
   "source": [
    "\n",
    "# Initialize the OpenAI API with your key\n",
    "openai.api_key = os.getenv(\"AI_KEY\")  # Replace with your actual key\n",
    "\n",
    "def analyze_ratios_with_openai(ticker, pe, pb, ps, avg_pe, avg_pb, avg_ps):\n",
    "    # Constructing a prompt for the OpenAI API\n",
    "    prompt = f\"\"\"\n",
    "    Analyze the financial ratios for the company with ticker symbol {ticker}:\n",
    "\n",
    "    - P/E Ratio (Price-to-Earnings Ratio) for {ticker}: {pe}\n",
    "      Average P/E Ratio among peers: {avg_pe}\n",
    "      \n",
    "    - P/B Ratio (Price-to-Book Ratio) for {ticker}: {pb}\n",
    "      Average P/B Ratio among peers: {avg_pb}\n",
    "\n",
    "    - P/S Ratio (Price-to-Sales Ratio) for {ticker}: {ps}\n",
    "      Average P/S Ratio among peers: {avg_ps}\n",
    "\n",
    "    Based on this data, provide an analysis of the company's financial standing compared to its peers.\n",
    "    \"\"\"\n",
    "\n",
    "    # Querying the OpenAI API\n",
    "    response = openai.Completion.create(engine=\"text-davinci-002\", prompt=prompt, max_tokens=200)\n",
    "    analysis = response.choices[0].text.strip()\n",
    "\n",
    "    return analysis\n",
    "\n",
    "# Example usage:\n",
    "ticker = \"JPM\"\n",
    "pe, pb, ps = get_ratios_for_ticker(ticker)\n",
    "avg_pe, avg_pb, avg_ps = get_peer_ratios(ticker)\n",
    "\n",
    "analysis_result = analyze_ratios_with_openai(ticker, pe, pb, ps, avg_pe, avg_pb, avg_ps)\n",
    "print(analysis_result)"
   ]
  },
  {
   "cell_type": "code",
   "execution_count": null,
   "id": "2f209e28-996d-45da-9979-b067b6d04857",
   "metadata": {},
   "outputs": [],
   "source": []
  }
 ],
 "metadata": {
  "kernelspec": {
   "display_name": "Python 3 (ipykernel)",
   "language": "python",
   "name": "python3"
  },
  "language_info": {
   "codemirror_mode": {
    "name": "ipython",
    "version": 3
   },
   "file_extension": ".py",
   "mimetype": "text/x-python",
   "name": "python",
   "nbconvert_exporter": "python",
   "pygments_lexer": "ipython3",
   "version": "3.10.11"
  }
 },
 "nbformat": 4,
 "nbformat_minor": 5
}
